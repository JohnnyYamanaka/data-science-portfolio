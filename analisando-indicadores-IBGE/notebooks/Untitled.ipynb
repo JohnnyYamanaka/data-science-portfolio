{
 "cells": [
  {
   "cell_type": "code",
   "execution_count": 1,
   "id": "4bcb317d",
   "metadata": {},
   "outputs": [],
   "source": [
    "import requests\n",
    "import json\n",
    "import pandas as pd"
   ]
  },
  {
   "cell_type": "code",
   "execution_count": 2,
   "id": "ccb442cf",
   "metadata": {},
   "outputs": [],
   "source": [
    "req = requests.get(\n",
    "    'https://servicodados.ibge.gov.br/api/v1/paises/BR/indicadores/77821')"
   ]
  },
  {
   "cell_type": "code",
   "execution_count": 3,
   "id": "44f72f2a",
   "metadata": {},
   "outputs": [
    {
     "data": {
      "text/plain": [
       "<Response [200]>"
      ]
     },
     "execution_count": 3,
     "metadata": {},
     "output_type": "execute_result"
    }
   ],
   "source": [
    "req"
   ]
  },
  {
   "cell_type": "code",
   "execution_count": 4,
   "id": "2e319b7b",
   "metadata": {},
   "outputs": [],
   "source": [
    "data = json.loads(req.content.decode('utf-8'))"
   ]
  },
  {
   "cell_type": "code",
   "execution_count": 5,
   "id": "b93e47cc",
   "metadata": {},
   "outputs": [
    {
     "data": {
      "text/plain": [
       "list"
      ]
     },
     "execution_count": 5,
     "metadata": {},
     "output_type": "execute_result"
    }
   ],
   "source": [
    "type(data)"
   ]
  },
  {
   "cell_type": "code",
   "execution_count": 6,
   "id": "e2968713",
   "metadata": {},
   "outputs": [
    {
     "name": "stdout",
     "output_type": "stream",
     "text": [
      "<class 'dict'>\n"
     ]
    }
   ],
   "source": [
    "#extraindo o primeiro item(dict) de data\n",
    "print(type(data[0]))\n",
    "\n",
    "dict_data = data[0]\n",
    "\n"
   ]
  },
  {
   "cell_type": "code",
   "execution_count": 7,
   "id": "aac464c7",
   "metadata": {},
   "outputs": [
    {
     "data": {
      "text/plain": [
       "{'id': 77821,\n",
       " 'indicador': 'Economia - Investimentos em pesquisa e desenvolvimento',\n",
       " 'unidade': {'id': '% do PIB', 'classe': 'N', 'multiplicador': 1},\n",
       " 'series': [{'pais': {'id': 'BR', 'nome': 'Brasil'},\n",
       "   'serie': [{'-': None},\n",
       "    {'1990': None},\n",
       "    {'1990-1995': None},\n",
       "    {'1995': None},\n",
       "    {'1995-2000': None},\n",
       "    {'1999-2001': None},\n",
       "    {'2000': '1.002'},\n",
       "    {'2000-2002': None},\n",
       "    {'2000-2005': None},\n",
       "    {'2001': '1.032'},\n",
       "    {'2001-2003': None},\n",
       "    {'2002': '0.977'},\n",
       "    {'2002-2004': None},\n",
       "    {'2003': '0.999'},\n",
       "    {'2003-2005': None},\n",
       "    {'2004': '0.963'},\n",
       "    {'2004-2006': None},\n",
       "    {'2005': '1.002'},\n",
       "    {'2005-2007': None},\n",
       "    {'2005-2010': None},\n",
       "    {'2006': '0.988'},\n",
       "    {'2006-2008': None},\n",
       "    {'2007': '1.081'},\n",
       "    {'2007-2009': None},\n",
       "    {'2008': '1.129'},\n",
       "    {'2008-2010': None},\n",
       "    {'2009': '1.119'},\n",
       "    {'2009-2011': None},\n",
       "    {'2010': '1.160'},\n",
       "    {'2010-2012': None},\n",
       "    {'2010-2015': None},\n",
       "    {'2011': '1.140'},\n",
       "    {'2011-2013': None},\n",
       "    {'2012': '1.127'},\n",
       "    {'2012-2014': None},\n",
       "    {'2013': '1.196'},\n",
       "    {'2013-2015': None},\n",
       "    {'2014': '1.271'},\n",
       "    {'2014-2016': None},\n",
       "    {'2015': '1.343'},\n",
       "    {'2015-2017': None},\n",
       "    {'2015-2020': None},\n",
       "    {'2016': '1.264'},\n",
       "    {'2016-2018': None},\n",
       "    {'2017': '1.263'},\n",
       "    {'2017-2019': None},\n",
       "    {'2018': '99999999999998'},\n",
       "    {'2019': None},\n",
       "    {'2020': None}]}]}"
      ]
     },
     "execution_count": 7,
     "metadata": {},
     "output_type": "execute_result"
    }
   ],
   "source": [
    "dict_data"
   ]
  },
  {
   "cell_type": "code",
   "execution_count": 8,
   "id": "6ebd622c",
   "metadata": {},
   "outputs": [
    {
     "name": "stdout",
     "output_type": "stream",
     "text": [
      "<class 'dict'>\n"
     ]
    },
    {
     "data": {
      "text/plain": [
       "{'pais': {'id': 'BR', 'nome': 'Brasil'},\n",
       " 'serie': [{'-': None},\n",
       "  {'1990': None},\n",
       "  {'1990-1995': None},\n",
       "  {'1995': None},\n",
       "  {'1995-2000': None},\n",
       "  {'1999-2001': None},\n",
       "  {'2000': '1.002'},\n",
       "  {'2000-2002': None},\n",
       "  {'2000-2005': None},\n",
       "  {'2001': '1.032'},\n",
       "  {'2001-2003': None},\n",
       "  {'2002': '0.977'},\n",
       "  {'2002-2004': None},\n",
       "  {'2003': '0.999'},\n",
       "  {'2003-2005': None},\n",
       "  {'2004': '0.963'},\n",
       "  {'2004-2006': None},\n",
       "  {'2005': '1.002'},\n",
       "  {'2005-2007': None},\n",
       "  {'2005-2010': None},\n",
       "  {'2006': '0.988'},\n",
       "  {'2006-2008': None},\n",
       "  {'2007': '1.081'},\n",
       "  {'2007-2009': None},\n",
       "  {'2008': '1.129'},\n",
       "  {'2008-2010': None},\n",
       "  {'2009': '1.119'},\n",
       "  {'2009-2011': None},\n",
       "  {'2010': '1.160'},\n",
       "  {'2010-2012': None},\n",
       "  {'2010-2015': None},\n",
       "  {'2011': '1.140'},\n",
       "  {'2011-2013': None},\n",
       "  {'2012': '1.127'},\n",
       "  {'2012-2014': None},\n",
       "  {'2013': '1.196'},\n",
       "  {'2013-2015': None},\n",
       "  {'2014': '1.271'},\n",
       "  {'2014-2016': None},\n",
       "  {'2015': '1.343'},\n",
       "  {'2015-2017': None},\n",
       "  {'2015-2020': None},\n",
       "  {'2016': '1.264'},\n",
       "  {'2016-2018': None},\n",
       "  {'2017': '1.263'},\n",
       "  {'2017-2019': None},\n",
       "  {'2018': '99999999999998'},\n",
       "  {'2019': None},\n",
       "  {'2020': None}]}"
      ]
     },
     "execution_count": 8,
     "metadata": {},
     "output_type": "execute_result"
    }
   ],
   "source": [
    "dict_series = (dict_data.get('series')[0])\n",
    "\n",
    "print(type(dict_series))\n",
    "(dict_series)"
   ]
  },
  {
   "cell_type": "code",
   "execution_count": 9,
   "id": "b75bdaed",
   "metadata": {},
   "outputs": [
    {
     "name": "stdout",
     "output_type": "stream",
     "text": [
      "<class 'list'>\n"
     ]
    }
   ],
   "source": [
    "serie = dict_series['serie']\n",
    "\n",
    "print(type(serie))\n"
   ]
  },
  {
   "cell_type": "code",
   "execution_count": 97,
   "id": "c16a67b6",
   "metadata": {},
   "outputs": [],
   "source": [
    "list_of_keys = list()\n",
    "list_of_values = list()\n",
    "\n",
    "for key in range(len(serie)):\n",
    "    if list(serie[key].keys())[0] == '-':\n",
    "        pass\n",
    "    \n",
    "    else:\n",
    "        list_of_keys.append(list(serie[key].keys())[0])\n",
    "    \n",
    "for item in range(len(serie)):\n",
    "    list_of_values.append(list(serie[item].values())[0])\n",
    "\n"
   ]
  },
  {
   "cell_type": "code",
   "execution_count": 103,
   "id": "ce917cf1",
   "metadata": {},
   "outputs": [],
   "source": [
    "list_of_values.pop(0)"
   ]
  },
  {
   "cell_type": "code",
   "execution_count": 104,
   "id": "0001f67d",
   "metadata": {},
   "outputs": [
    {
     "data": {
      "text/plain": [
       "48"
      ]
     },
     "execution_count": 104,
     "metadata": {},
     "output_type": "execute_result"
    }
   ],
   "source": [
    "len(list_of_keys)"
   ]
  },
  {
   "cell_type": "code",
   "execution_count": 105,
   "id": "3a25c01c",
   "metadata": {},
   "outputs": [
    {
     "data": {
      "text/plain": [
       "48"
      ]
     },
     "execution_count": 105,
     "metadata": {},
     "output_type": "execute_result"
    }
   ],
   "source": [
    "len(list_of_values)"
   ]
  },
  {
   "cell_type": "code",
   "execution_count": 106,
   "id": "688e1c2c",
   "metadata": {},
   "outputs": [],
   "source": [
    "d = {'year' : list_of_keys, 'values' : list_of_values}"
   ]
  },
  {
   "cell_type": "code",
   "execution_count": 107,
   "id": "983d7513",
   "metadata": {},
   "outputs": [],
   "source": [
    "df = pd.DataFrame(d)"
   ]
  },
  {
   "cell_type": "code",
   "execution_count": 108,
   "id": "a3f2ea58",
   "metadata": {},
   "outputs": [
    {
     "name": "stdout",
     "output_type": "stream",
     "text": [
      "<class 'pandas.core.frame.DataFrame'>\n",
      "RangeIndex: 48 entries, 0 to 47\n",
      "Data columns (total 2 columns):\n",
      " #   Column  Non-Null Count  Dtype \n",
      "---  ------  --------------  ----- \n",
      " 0   year    48 non-null     object\n",
      " 1   values  19 non-null     object\n",
      "dtypes: object(2)\n",
      "memory usage: 896.0+ bytes\n"
     ]
    }
   ],
   "source": [
    "df.info()"
   ]
  },
  {
   "cell_type": "code",
   "execution_count": 109,
   "id": "79444d7c",
   "metadata": {},
   "outputs": [
    {
     "data": {
      "text/html": [
       "<div>\n",
       "<style scoped>\n",
       "    .dataframe tbody tr th:only-of-type {\n",
       "        vertical-align: middle;\n",
       "    }\n",
       "\n",
       "    .dataframe tbody tr th {\n",
       "        vertical-align: top;\n",
       "    }\n",
       "\n",
       "    .dataframe thead th {\n",
       "        text-align: right;\n",
       "    }\n",
       "</style>\n",
       "<table border=\"1\" class=\"dataframe\">\n",
       "  <thead>\n",
       "    <tr style=\"text-align: right;\">\n",
       "      <th></th>\n",
       "      <th>year</th>\n",
       "      <th>values</th>\n",
       "    </tr>\n",
       "  </thead>\n",
       "  <tbody>\n",
       "    <tr>\n",
       "      <th>0</th>\n",
       "      <td>1990</td>\n",
       "      <td>None</td>\n",
       "    </tr>\n",
       "    <tr>\n",
       "      <th>1</th>\n",
       "      <td>1990-1995</td>\n",
       "      <td>None</td>\n",
       "    </tr>\n",
       "    <tr>\n",
       "      <th>2</th>\n",
       "      <td>1995</td>\n",
       "      <td>None</td>\n",
       "    </tr>\n",
       "    <tr>\n",
       "      <th>3</th>\n",
       "      <td>1995-2000</td>\n",
       "      <td>None</td>\n",
       "    </tr>\n",
       "    <tr>\n",
       "      <th>4</th>\n",
       "      <td>1999-2001</td>\n",
       "      <td>None</td>\n",
       "    </tr>\n",
       "  </tbody>\n",
       "</table>\n",
       "</div>"
      ],
      "text/plain": [
       "        year values\n",
       "0       1990   None\n",
       "1  1990-1995   None\n",
       "2       1995   None\n",
       "3  1995-2000   None\n",
       "4  1999-2001   None"
      ]
     },
     "execution_count": 109,
     "metadata": {},
     "output_type": "execute_result"
    }
   ],
   "source": [
    "df.head()"
   ]
  },
  {
   "cell_type": "code",
   "execution_count": null,
   "id": "455e356d",
   "metadata": {},
   "outputs": [],
   "source": []
  }
 ],
 "metadata": {
  "kernelspec": {
   "display_name": "Python 3 (ipykernel)",
   "language": "python",
   "name": "python3"
  },
  "language_info": {
   "codemirror_mode": {
    "name": "ipython",
    "version": 3
   },
   "file_extension": ".py",
   "mimetype": "text/x-python",
   "name": "python",
   "nbconvert_exporter": "python",
   "pygments_lexer": "ipython3",
   "version": "3.8.10"
  }
 },
 "nbformat": 4,
 "nbformat_minor": 5
}
